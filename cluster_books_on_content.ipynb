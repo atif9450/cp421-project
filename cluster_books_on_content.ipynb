{
 "cells": [
  {
   "cell_type": "code",
   "execution_count": 1,
   "id": "3f57c261-9fc8-42bb-9bc1-7b5a062dbcdc",
   "metadata": {
    "tags": []
   },
   "outputs": [],
   "source": [
    "import pandas as pd\n",
    "from sklearn.feature_extraction.text import TfidfVectorizer\n",
    "from sklearn.decomposition import PCA\n",
    "import matplotlib.pyplot as plt\n",
    "from sklearn.cluster import KMeans\n",
    "import numpy as np"
   ]
  },
  {
   "cell_type": "markdown",
   "id": "151ae964-2314-46db-97c2-6f30fb43be07",
   "metadata": {},
   "source": [
    "<h1>Data Cleaning</h1>"
   ]
  },
  {
   "cell_type": "code",
   "execution_count": 2,
   "id": "8e30a89a-a275-4b34-9eaf-56841cef2fcf",
   "metadata": {
    "tags": []
   },
   "outputs": [
    {
     "name": "stderr",
     "output_type": "stream",
     "text": [
      "/tmp/ipykernel_36641/1598234465.py:1: DtypeWarning: Columns (3) have mixed types. Specify dtype option on import or set low_memory=False.\n",
      "  df = pd.read_csv('Books.csv')\n"
     ]
    }
   ],
   "source": [
    "df = pd.read_csv('Books.csv')"
   ]
  },
  {
   "cell_type": "code",
   "execution_count": 3,
   "id": "2fae7c8c-2093-41e7-a62c-98b0556ad815",
   "metadata": {
    "tags": []
   },
   "outputs": [
    {
     "data": {
      "text/plain": [
       "Index(['ISBN', 'Book-Title', 'Book-Author', 'Year-Of-Publication', 'Publisher',\n",
       "       'Image-URL-S', 'Image-URL-M', 'Image-URL-L'],\n",
       "      dtype='object')"
      ]
     },
     "execution_count": 3,
     "metadata": {},
     "output_type": "execute_result"
    }
   ],
   "source": [
    "df.columns"
   ]
  },
  {
   "cell_type": "code",
   "execution_count": 4,
   "id": "3a0c8b27-fa4b-48eb-a0b1-77cc7fba7ce4",
   "metadata": {
    "tags": []
   },
   "outputs": [],
   "source": [
    "df.drop(['Image-URL-S', 'Image-URL-M', 'Image-URL-L'], axis=1, inplace=True)"
   ]
  },
  {
   "cell_type": "code",
   "execution_count": 5,
   "id": "769217be-6101-4d7b-8390-8e1fda1e3ea7",
   "metadata": {
    "tags": []
   },
   "outputs": [
    {
     "data": {
      "text/plain": [
       "Index(['ISBN', 'Book-Title', 'Book-Author', 'Year-Of-Publication',\n",
       "       'Publisher'],\n",
       "      dtype='object')"
      ]
     },
     "execution_count": 5,
     "metadata": {},
     "output_type": "execute_result"
    }
   ],
   "source": [
    "df.columns"
   ]
  },
  {
   "cell_type": "markdown",
   "id": "a573a12b-6b99-4a95-a5ea-a9d3db945e69",
   "metadata": {},
   "source": [
    "Check for nulls"
   ]
  },
  {
   "cell_type": "code",
   "execution_count": 6,
   "id": "9d464b1c-b1b4-4c89-940d-b51af25aa367",
   "metadata": {
    "tags": []
   },
   "outputs": [
    {
     "data": {
      "text/plain": [
       "ISBN                   0\n",
       "Book-Title             0\n",
       "Book-Author            2\n",
       "Year-Of-Publication    0\n",
       "Publisher              2\n",
       "dtype: int64"
      ]
     },
     "execution_count": 6,
     "metadata": {},
     "output_type": "execute_result"
    }
   ],
   "source": [
    "df.isnull().sum()"
   ]
  },
  {
   "cell_type": "code",
   "execution_count": 7,
   "id": "41192eb1-c57b-451b-bd20-c1ed5d04cec1",
   "metadata": {
    "tags": []
   },
   "outputs": [],
   "source": [
    "df.dropna(inplace=True)"
   ]
  },
  {
   "cell_type": "code",
   "execution_count": 8,
   "id": "46ffbb78-48dc-4f89-b27b-b2208f1bbef8",
   "metadata": {
    "tags": []
   },
   "outputs": [
    {
     "data": {
      "text/plain": [
       "ISBN                   0\n",
       "Book-Title             0\n",
       "Book-Author            0\n",
       "Year-Of-Publication    0\n",
       "Publisher              0\n",
       "dtype: int64"
      ]
     },
     "execution_count": 8,
     "metadata": {},
     "output_type": "execute_result"
    }
   ],
   "source": [
    "df.isnull().sum()"
   ]
  },
  {
   "cell_type": "markdown",
   "id": "a8ffef23-4445-4b60-925d-a751462aec2e",
   "metadata": {},
   "source": [
    "Make sure there are no duplicate ISBNs"
   ]
  },
  {
   "cell_type": "code",
   "execution_count": 9,
   "id": "9423b92e-5ee0-4ccd-9389-d2db291bb715",
   "metadata": {
    "tags": []
   },
   "outputs": [
    {
     "data": {
      "text/plain": [
       "True"
      ]
     },
     "execution_count": 9,
     "metadata": {},
     "output_type": "execute_result"
    }
   ],
   "source": [
    "len(df['ISBN'].unique()) <= len(df['Book-Title']) #we can have duplicate titles, but need to have different ISBNs"
   ]
  },
  {
   "cell_type": "code",
   "execution_count": 10,
   "id": "2315f7ec-27a3-4669-92b2-6520f2c4c711",
   "metadata": {
    "tags": []
   },
   "outputs": [
    {
     "data": {
      "text/plain": [
       "True"
      ]
     },
     "execution_count": 10,
     "metadata": {},
     "output_type": "execute_result"
    }
   ],
   "source": [
    "len(df['ISBN'].unique()) == len(df['ISBN']) #make sure no duplicate ISBNs"
   ]
  },
  {
   "cell_type": "code",
   "execution_count": 11,
   "id": "3e9ccdd7-a165-4a19-8bc8-0cc34a67c6d4",
   "metadata": {
    "tags": []
   },
   "outputs": [
    {
     "data": {
      "text/plain": [
       "False"
      ]
     },
     "execution_count": 11,
     "metadata": {},
     "output_type": "execute_result"
    }
   ],
   "source": [
    "len(df['Book-Title'].unique()) == len(df['Book-Title']) #check for duplicate titles (which isn't a problem)"
   ]
  },
  {
   "cell_type": "markdown",
   "id": "b52c8410-fc66-480b-b7a8-b7fe5a90c19a",
   "metadata": {},
   "source": [
    "Looks like there ARE duplicate titles; which means using title to extract content-based data won't be super helpful."
   ]
  },
  {
   "cell_type": "markdown",
   "id": "fe9f8cf9-50e3-4b1f-8752-34cc6b8448e7",
   "metadata": {},
   "source": [
    "<h1>Finding Book \"Classes\"</h1>"
   ]
  },
  {
   "cell_type": "markdown",
   "id": "1088ad3a-cecb-430d-b016-7fd879e5e588",
   "metadata": {},
   "source": [
    "Book titles can be very uninformative of a book's content. For example, Harry Potter and Sherlock Holmes are both books whose titles are the protagonists' names. However, their content is very different: one is about magic, the other is about crime and detective work. We believe that using the author, the publisher, and the publication year will prove to be better indicators of a book's content. We think this for the following reasons:  \n",
    "- authors tend to specify on certain genres\n",
    "- publishers tend to focus on certain genres\n",
    "- the year can be an additional factor to help determine the \"current focus\" of an author and publisher in a given year"
   ]
  },
  {
   "cell_type": "code",
   "execution_count": 12,
   "id": "521caa60-e58d-47cf-882d-a9347b8a18ff",
   "metadata": {
    "tags": []
   },
   "outputs": [
    {
     "data": {
      "text/plain": [
       "['Mark P. O. Morford',\n",
       " 'Richard Bruce Wright',\n",
       " \"Carlo D'Este\",\n",
       " 'Gina Bari Kolata',\n",
       " 'E. J. W. Barber']"
      ]
     },
     "execution_count": 12,
     "metadata": {},
     "output_type": "execute_result"
    }
   ],
   "source": [
    "df['Book-Author'] = df['Book-Author'].apply(lambda x: str(x)) #apparently there are some float-type values\n",
    "authors = [x.strip(' ') for x in df['Book-Author']]\n",
    "authors[:5]"
   ]
  },
  {
   "cell_type": "code",
   "execution_count": 13,
   "id": "a0fc4bca-bbd3-4f3c-a67c-27576f85254b",
   "metadata": {
    "tags": []
   },
   "outputs": [
    {
     "data": {
      "text/plain": [
       "['markpomorford',\n",
       " 'richardbrucewright',\n",
       " 'carlodeste',\n",
       " 'ginabarikolata',\n",
       " 'ejwbarber']"
      ]
     },
     "execution_count": 13,
     "metadata": {},
     "output_type": "execute_result"
    }
   ],
   "source": [
    "#regularize author names\n",
    "for i in range(len(authors)):\n",
    "    a = authors[i]\n",
    "    a = a.lower()\n",
    "    new = ''\n",
    "    for l in a:\n",
    "        if ord(l) in range(97, 123):\n",
    "            new += l\n",
    "    authors[i] = (new)\n",
    "    \n",
    "authors[:5]        "
   ]
  },
  {
   "cell_type": "code",
   "execution_count": 14,
   "id": "0f32379d-74bd-4187-9b2d-183d491307cd",
   "metadata": {
    "tags": []
   },
   "outputs": [
    {
     "data": {
      "text/plain": [
       "['Oxford University Press',\n",
       " 'HarperFlamingo Canada',\n",
       " 'HarperPerennial',\n",
       " 'Farrar Straus Giroux',\n",
       " 'W. W. Norton and Company']"
      ]
     },
     "execution_count": 14,
     "metadata": {},
     "output_type": "execute_result"
    }
   ],
   "source": [
    "# do the same thing for publishers\n",
    "df['Publisher'] = df['Publisher'].apply(lambda x: str(x))\n",
    "df['Publisher'] = df['Publisher'].apply(lambda x: x.replace('&amp;', 'and'))\n",
    "publishers = [x.strip(' ') for x in df['Publisher']]\n",
    "publishers[:5]"
   ]
  },
  {
   "cell_type": "code",
   "execution_count": 15,
   "id": "d5be5c55-18c0-4048-ba02-4efdc4b602fb",
   "metadata": {
    "tags": []
   },
   "outputs": [
    {
     "data": {
      "text/plain": [
       "['oxforduniversitypress',\n",
       " 'harperflamingocanada',\n",
       " 'harperperennial',\n",
       " 'farrarstrausgiroux',\n",
       " 'wwnortonandcompany']"
      ]
     },
     "execution_count": 15,
     "metadata": {},
     "output_type": "execute_result"
    }
   ],
   "source": [
    "#regularize publisher names\n",
    "for i in range(len(publishers)):\n",
    "    p = publishers[i]\n",
    "    p = p.lower()\n",
    "    new = ''\n",
    "    for l in p:\n",
    "        if ord(l) in range(97, 123):\n",
    "            new += (l)\n",
    "    publishers[i] = (new)\n",
    "    \n",
    "publishers[:5]"
   ]
  },
  {
   "cell_type": "code",
   "execution_count": 16,
   "id": "a2d71be4-2058-4393-a94f-20b8110e8578",
   "metadata": {
    "scrolled": true,
    "tags": []
   },
   "outputs": [
    {
     "data": {
      "text/plain": [
       "[2002, 2001, 1991, 1999, 1999]"
      ]
     },
     "execution_count": 16,
     "metadata": {},
     "output_type": "execute_result"
    }
   ],
   "source": [
    "years = []\n",
    "for y in df['Year-Of-Publication']:\n",
    "    if type(y) == int:\n",
    "        years.append(y)\n",
    "    else:\n",
    "        years.append(0)\n",
    "years[:5]"
   ]
  },
  {
   "cell_type": "code",
   "execution_count": 17,
   "id": "09c8077f-c453-43bc-9ebe-dc0bf41d3e96",
   "metadata": {
    "tags": []
   },
   "outputs": [
    {
     "data": {
      "text/plain": [
       "['markpomorford oxforduniversitypress 2002',\n",
       " 'richardbrucewright harperflamingocanada 2001',\n",
       " 'carlodeste harperperennial 1991',\n",
       " 'ginabarikolata farrarstrausgiroux 1999',\n",
       " 'ejwbarber wwnortonandcompany 1999']"
      ]
     },
     "execution_count": 17,
     "metadata": {},
     "output_type": "execute_result"
    }
   ],
   "source": [
    "content = []\n",
    "for i in range(len(authors)):\n",
    "    content.append( authors[i] + ' ' + publishers[i] + ' ' + str(years[i]) )\n",
    "content[:5]"
   ]
  },
  {
   "cell_type": "code",
   "execution_count": 18,
   "id": "bfe553eb-f630-4f2c-b02d-e40f4cbbbf07",
   "metadata": {
    "tags": []
   },
   "outputs": [],
   "source": [
    "t = TfidfVectorizer(max_features=1000)\n",
    "x = t.fit_transform(content)"
   ]
  },
  {
   "cell_type": "code",
   "execution_count": 19,
   "id": "a2b49a98-579d-4729-b01e-f5c9971221f6",
   "metadata": {
    "tags": []
   },
   "outputs": [],
   "source": [
    "df_x = pd.DataFrame(x.todense())"
   ]
  },
  {
   "cell_type": "code",
   "execution_count": 20,
   "id": "f21a28ff-0857-4787-b265-9d569b9cc57e",
   "metadata": {
    "tags": []
   },
   "outputs": [],
   "source": [
    "pca = PCA(n_components=2)\n",
    "content_reduced = pca.fit_transform(df_x)"
   ]
  },
  {
   "cell_type": "code",
   "execution_count": 21,
   "id": "a11c2390-a309-41dd-96fc-72a7c505b288",
   "metadata": {
    "tags": []
   },
   "outputs": [
    {
     "data": {
      "text/plain": [
       "<matplotlib.collections.PathCollection at 0x7fb18c8a6690>"
      ]
     },
     "execution_count": 21,
     "metadata": {},
     "output_type": "execute_result"
    },
    {
     "data": {
      "image/png": "[encoded data removed]",
      "text/plain": [
       "<Figure size 640x480 with 1 Axes>"
      ]
     },
     "metadata": {},
     "output_type": "display_data"
    }
   ],
   "source": [
    "plt.scatter(content_reduced[:,0], content_reduced[:,1])"
   ]
  },
  {
   "cell_type": "markdown",
   "id": "477c52b1-8faa-431d-9c46-3dad6be11305",
   "metadata": {},
   "source": [
    "Since we don't know AT ALL how many clusters/classes there might be, we need to use a graph to get a rough number of clusters. Using DBSCAN is an option, but it will classify certain books as noise points, which won't help at all in our recommender system/"
   ]
  },
  {
   "cell_type": "code",
   "execution_count": 22,
   "id": "a47b0845-582e-4611-abd8-bcde644dd263",
   "metadata": {
    "tags": []
   },
   "outputs": [],
   "source": [
    "# taking a sample because computer can't use entire data\n",
    "sample_size = 10000\n",
    "df_x_sample = df_x[:sample_size]\n",
    "reduced_sample = content_reduced[:sample_size]"
   ]
  },
  {
   "cell_type": "code",
   "execution_count": 23,
   "id": "d7e895d5-dda2-45cc-bb34-a79be9a895f7",
   "metadata": {
    "tags": []
   },
   "outputs": [],
   "source": [
    "wcss = [] #collect SSE for different models\n",
    "kmeans = None\n",
    "\n",
    "#collect SSE for k=1 to k=99\n",
    "for i in range(1,100):\n",
    "    kmeans = KMeans(n_clusters=i, init='k-means++', max_iter=300, n_init=10, random_state=0)\n",
    "    kmeans.fit(df_x_sample)\n",
    "    \n",
    "    sum_ = 0\n",
    "    for j in range(len(df_x_sample)):\n",
    "        index = kmeans.labels_[j]\n",
    "        centroid = kmeans.cluster_centers_[index]\n",
    "        point = df_x_sample.iloc[j]\n",
    "        sum_ += np.sum((point - centroid)**2)\n",
    "            \n",
    "    wcss.append(sum_)"
   ]
  },
  {
   "cell_type": "code",
   "execution_count": 24,
   "id": "f67d5718-8ad8-4847-a3ce-7b400286bd85",
   "metadata": {
    "tags": []
   },
   "outputs": [
    {
     "data": {
      "image/png": "[encoded data removed]",
      "text/plain": [
       "<Figure size 640x480 with 1 Axes>"
      ]
     },
     "metadata": {},
     "output_type": "display_data"
    }
   ],
   "source": [
    "#plot SSE vs. k\n",
    "plt.plot(np.arange(1,100), wcss)\n",
    "plt.title('SSE vs. k')\n",
    "plt.xlabel('k')\n",
    "plt.ylabel('SSE')\n",
    "plt.grid()"
   ]
  },
  {
   "cell_type": "markdown",
   "id": "9e55e878-d86e-4792-bf32-de5c7c2b8576",
   "metadata": {},
   "source": [
    "Looks like the SSE starts evening out right before k=20. Let's focus on that region to get a better look."
   ]
  },
  {
   "cell_type": "code",
   "execution_count": 25,
   "id": "bd08ad01-edb7-4ddb-955d-c36462fb7503",
   "metadata": {
    "tags": []
   },
   "outputs": [
    {
     "data": {
      "image/png": "[encoded data removed]",
      "text/plain": [
       "<Figure size 640x480 with 1 Axes>"
      ]
     },
     "metadata": {},
     "output_type": "display_data"
    }
   ],
   "source": [
    "#plot SSE vs. k\n",
    "plt.plot(np.arange(1,21), wcss[:20])\n",
    "plt.title('SSE vs. k')\n",
    "plt.xlabel('k')\n",
    "plt.ylabel('SSE')\n",
    "plt.grid()"
   ]
  },
  {
   "cell_type": "markdown",
   "id": "586ec5b1-7862-4432-865c-fc19d74b4f98",
   "metadata": {},
   "source": [
    "The graph is indicating that the SSE starts to even out at around k=15. So, that's the number of clusters we'll use."
   ]
  },
  {
   "cell_type": "code",
   "execution_count": 26,
   "id": "f7110340-8e2f-4006-87a8-7229ba4d98ab",
   "metadata": {
    "tags": []
   },
   "outputs": [
    {
     "data": {
      "text/html": [
       "<style>#sk-container-id-1 {color: black;}#sk-container-id-1 pre{padding: 0;}#sk-container-id-1 div.sk-toggleable {background-color: white;}#sk-container-id-1 label.sk-toggleable__label {cursor: pointer;display: block;width: 100%;margin-bottom: 0;padding: 0.3em;box-sizing: border-box;text-align: center;}#sk-container-id-1 label.sk-toggleable__label-arrow:before {content: \"▸\";float: left;margin-right: 0.25em;color: #696969;}#sk-container-id-1 label.sk-toggleable__label-arrow:hover:before {color: black;}#sk-container-id-1 div.sk-estimator:hover label.sk-toggleable__label-arrow:before {color: black;}#sk-container-id-1 div.sk-toggleable__content {max-height: 0;max-width: 0;overflow: hidden;text-align: left;background-color: #f0f8ff;}#sk-container-id-1 div.sk-toggleable__content pre {margin: 0.2em;color: black;border-radius: 0.25em;background-color: #f0f8ff;}#sk-container-id-1 input.sk-toggleable__control:checked~div.sk-toggleable__content {max-height: 200px;max-width: 100%;overflow: auto;}#sk-container-id-1 input.sk-toggleable__control:checked~label.sk-toggleable__label-arrow:before {content: \"▾\";}#sk-container-id-1 div.sk-estimator input.sk-toggleable__control:checked~label.sk-toggleable__label {background-color: #d4ebff;}#sk-container-id-1 div.sk-label input.sk-toggleable__control:checked~label.sk-toggleable__label {background-color: #d4ebff;}#sk-container-id-1 input.sk-hidden--visually {border: 0;clip: rect(1px 1px 1px 1px);clip: rect(1px, 1px, 1px, 1px);height: 1px;margin: -1px;overflow: hidden;padding: 0;position: absolute;width: 1px;}#sk-container-id-1 div.sk-estimator {font-family: monospace;background-color: #f0f8ff;border: 1px dotted black;border-radius: 0.25em;box-sizing: border-box;margin-bottom: 0.5em;}#sk-container-id-1 div.sk-estimator:hover {background-color: #d4ebff;}#sk-container-id-1 div.sk-parallel-item::after {content: \"\";width: 100%;border-bottom: 1px solid gray;flex-grow: 1;}#sk-container-id-1 div.sk-label:hover label.sk-toggleable__label {background-color: #d4ebff;}#sk-container-id-1 div.sk-serial::before {content: \"\";position: absolute;border-left: 1px solid gray;box-sizing: border-box;top: 0;bottom: 0;left: 50%;z-index: 0;}#sk-container-id-1 div.sk-serial {display: flex;flex-direction: column;align-items: center;background-color: white;padding-right: 0.2em;padding-left: 0.2em;position: relative;}#sk-container-id-1 div.sk-item {position: relative;z-index: 1;}#sk-container-id-1 div.sk-parallel {display: flex;align-items: stretch;justify-content: center;background-color: white;position: relative;}#sk-container-id-1 div.sk-item::before, #sk-container-id-1 div.sk-parallel-item::before {content: \"\";position: absolute;border-left: 1px solid gray;box-sizing: border-box;top: 0;bottom: 0;left: 50%;z-index: -1;}#sk-container-id-1 div.sk-parallel-item {display: flex;flex-direction: column;z-index: 1;position: relative;background-color: white;}#sk-container-id-1 div.sk-parallel-item:first-child::after {align-self: flex-end;width: 50%;}#sk-container-id-1 div.sk-parallel-item:last-child::after {align-self: flex-start;width: 50%;}#sk-container-id-1 div.sk-parallel-item:only-child::after {width: 0;}#sk-container-id-1 div.sk-dashed-wrapped {border: 1px dashed gray;margin: 0 0.4em 0.5em 0.4em;box-sizing: border-box;padding-bottom: 0.4em;background-color: white;}#sk-container-id-1 div.sk-label label {font-family: monospace;font-weight: bold;display: inline-block;line-height: 1.2em;}#sk-container-id-1 div.sk-label-container {text-align: center;}#sk-container-id-1 div.sk-container {/* jupyter's `normalize.less` sets `[hidden] { display: none; }` but bootstrap.min.css set `[hidden] { display: none !important; }` so we also need the `!important` here to be able to override the default hidden behavior on the sphinx rendered scikit-learn.org. See: https://github.com/scikit-learn/scikit-learn/issues/21755 */display: inline-block !important;position: relative;}#sk-container-id-1 div.sk-text-repr-fallback {display: none;}</style><div id=\"sk-container-id-1\" class=\"sk-top-container\"><div class=\"sk-text-repr-fallback\"><pre>KMeans(n_clusters=15, n_init=10, random_state=0)</pre><b>In a Jupyter environment, please rerun this cell to show the HTML representation or trust the notebook. <br />On GitHub, the HTML representation is unable to render, please try loading this page with nbviewer.org.</b></div><div class=\"sk-container\" hidden><div class=\"sk-item\"><div class=\"sk-estimator sk-toggleable\"><input class=\"sk-toggleable__control sk-hidden--visually\" id=\"sk-estimator-id-1\" type=\"checkbox\" checked><label for=\"sk-estimator-id-1\" class=\"sk-toggleable__label sk-toggleable__label-arrow\">KMeans</label><div class=\"sk-toggleable__content\"><pre>KMeans(n_clusters=15, n_init=10, random_state=0)</pre></div></div></div></div></div>"
      ],
      "text/plain": [
       "KMeans(n_clusters=15, n_init=10, random_state=0)"
      ]
     },
     "execution_count": 26,
     "metadata": {},
     "output_type": "execute_result"
    }
   ],
   "source": [
    "#train k=3 KMeans model\n",
    "kmeans = KMeans(n_clusters=15, init='k-means++', max_iter=300, n_init=10, random_state=0)\n",
    "kmeans.fit(df_x_sample)"
   ]
  },
  {
   "cell_type": "code",
   "execution_count": 27,
   "id": "248debd5-61e3-4356-a788-e2c915d75e2d",
   "metadata": {
    "tags": []
   },
   "outputs": [
    {
     "data": {
      "text/plain": [
       "Text(0.5, 1.0, 'k=15 KMeans clustering')"
      ]
     },
     "execution_count": 27,
     "metadata": {},
     "output_type": "execute_result"
    },
    {
     "data": {
      "image/png": "[encoded data removed]",
      "text/plain": [
       "<Figure size 640x480 with 1 Axes>"
      ]
     },
     "metadata": {},
     "output_type": "display_data"
    }
   ],
   "source": [
    "#visualize clusters\n",
    "plt.scatter(reduced_sample[:,0], reduced_sample[:,1], c=kmeans.labels_, cmap='rainbow', alpha=0.7, edgecolors='w', s=100)\n",
    "plt.title('k=15 KMeans clustering')"
   ]
  },
  {
   "cell_type": "code",
   "execution_count": 28,
   "id": "5fc38444-6380-4513-a730-1e3c1caaf92d",
   "metadata": {
    "tags": []
   },
   "outputs": [],
   "source": [
    "clusters = np.unique(kmeans.labels_)"
   ]
  },
  {
   "cell_type": "code",
   "execution_count": 29,
   "id": "a12eacf6-57b1-4e49-ab48-929ad354130d",
   "metadata": {
    "tags": []
   },
   "outputs": [
    {
     "data": {
      "text/plain": [
       "Text(0.5, 1.0, 'Cluster Sizes for k=15')"
      ]
     },
     "execution_count": 29,
     "metadata": {},
     "output_type": "execute_result"
    },
    {
     "data": {
      "image/png": "[encoded data removed]",
      "text/plain": [
       "<Figure size 640x480 with 1 Axes>"
      ]
     },
     "metadata": {},
     "output_type": "display_data"
    }
   ],
   "source": [
    "plt.hist(clusters)\n",
    "plt.xlabel('Cluster')\n",
    "plt.ylabel('Cluster Size')\n",
    "plt.title('Cluster Sizes for k=15')"
   ]
  },
  {
   "cell_type": "markdown",
   "id": "269eae3f-d5dc-4385-a35f-6a0cca609a37",
   "metadata": {},
   "source": [
    "Looks like none of the clusters are useless, since none of them have a disproportionately small amount of books. Also, if any clusters had a disproportionately high amount of books, that would have been a problem as well. Looks like 15 clusters is a good choice for the data we are using."
   ]
  },
  {
   "cell_type": "markdown",
   "id": "01df4ad3-a4d8-4378-ad96-5089295c482d",
   "metadata": {
    "tags": []
   },
   "source": [
    "<h1>Classifying the books</h1>"
   ]
  },
  {
   "cell_type": "markdown",
   "id": "9af0f339-bfbc-4816-badf-33b05ca839a0",
   "metadata": {},
   "source": [
    "Now that we have classes for the sampled books, all that's left is to create a new dataframe with ISBN and the centroids of the clusters. The idea is that 2 books whose cluster centroids are closer together should have similar content compared to 2 books whose cluster centroids are farther away."
   ]
  },
  {
   "cell_type": "code",
   "execution_count": 30,
   "id": "4c1334d0-533b-44f0-8561-b2a457bed2b7",
   "metadata": {
    "tags": []
   },
   "outputs": [],
   "source": [
    "centroids = [kmeans.cluster_centers_[i] for i in kmeans.labels_]\n",
    "isbns = df['ISBN'][:sample_size]"
   ]
  },
  {
   "cell_type": "code",
   "execution_count": 31,
   "id": "50add1d9-2744-4318-a155-5b4b3dcca355",
   "metadata": {
    "tags": []
   },
   "outputs": [
    {
     "data": {
      "text/html": [
       "<div>\n",
       "<style scoped>\n",
       "    .dataframe tbody tr th:only-of-type {\n",
       "        vertical-align: middle;\n",
       "    }\n",
       "\n",
       "    .dataframe tbody tr th {\n",
       "        vertical-align: top;\n",
       "    }\n",
       "\n",
       "    .dataframe thead th {\n",
       "        text-align: right;\n",
       "    }\n",
       "</style>\n",
       "<table border=\"1\" class=\"dataframe\">\n",
       "  <thead>\n",
       "    <tr style=\"text-align: right;\">\n",
       "      <th></th>\n",
       "      <th>0</th>\n",
       "      <th>1</th>\n",
       "      <th>2</th>\n",
       "      <th>3</th>\n",
       "      <th>4</th>\n",
       "      <th>5</th>\n",
       "      <th>6</th>\n",
       "      <th>7</th>\n",
       "      <th>8</th>\n",
       "      <th>9</th>\n",
       "      <th>...</th>\n",
       "      <th>991</th>\n",
       "      <th>992</th>\n",
       "      <th>993</th>\n",
       "      <th>994</th>\n",
       "      <th>995</th>\n",
       "      <th>996</th>\n",
       "      <th>997</th>\n",
       "      <th>998</th>\n",
       "      <th>999</th>\n",
       "      <th>ISBN</th>\n",
       "    </tr>\n",
       "  </thead>\n",
       "  <tbody>\n",
       "    <tr>\n",
       "      <th>0</th>\n",
       "      <td>1.084202e-18</td>\n",
       "      <td>-6.234162e-19</td>\n",
       "      <td>-3.523657e-19</td>\n",
       "      <td>3.252607e-19</td>\n",
       "      <td>1.301043e-18</td>\n",
       "      <td>-2.168404e-19</td>\n",
       "      <td>2.005774e-18</td>\n",
       "      <td>-8.673617e-19</td>\n",
       "      <td>4.119968e-18</td>\n",
       "      <td>-5.963112e-19</td>\n",
       "      <td>...</td>\n",
       "      <td>6.938894e-18</td>\n",
       "      <td>9.829566e-04</td>\n",
       "      <td>-6.234162e-19</td>\n",
       "      <td>9.800774e-04</td>\n",
       "      <td>1.235990e-17</td>\n",
       "      <td>0.0</td>\n",
       "      <td>0.003330</td>\n",
       "      <td>1.734723e-18</td>\n",
       "      <td>2.059984e-18</td>\n",
       "      <td>0195153448</td>\n",
       "    </tr>\n",
       "    <tr>\n",
       "      <th>1</th>\n",
       "      <td>9.757820e-19</td>\n",
       "      <td>-3.388132e-19</td>\n",
       "      <td>-3.523657e-19</td>\n",
       "      <td>1.409463e-18</td>\n",
       "      <td>-1.626303e-19</td>\n",
       "      <td>-2.168404e-19</td>\n",
       "      <td>1.951564e-18</td>\n",
       "      <td>-8.673617e-19</td>\n",
       "      <td>3.144186e-18</td>\n",
       "      <td>-5.014435e-19</td>\n",
       "      <td>...</td>\n",
       "      <td>4.865811e-03</td>\n",
       "      <td>2.215379e-03</td>\n",
       "      <td>-6.098637e-19</td>\n",
       "      <td>7.760145e-04</td>\n",
       "      <td>7.156626e-04</td>\n",
       "      <td>0.0</td>\n",
       "      <td>0.003675</td>\n",
       "      <td>-9.757820e-19</td>\n",
       "      <td>1.087958e-03</td>\n",
       "      <td>0002005018</td>\n",
       "    </tr>\n",
       "    <tr>\n",
       "      <th>2</th>\n",
       "      <td>-4.336809e-19</td>\n",
       "      <td>2.303930e-19</td>\n",
       "      <td>-3.252607e-19</td>\n",
       "      <td>-9.215718e-19</td>\n",
       "      <td>-7.047314e-19</td>\n",
       "      <td>-2.168404e-19</td>\n",
       "      <td>5.421011e-19</td>\n",
       "      <td>-6.505213e-19</td>\n",
       "      <td>-1.192622e-18</td>\n",
       "      <td>2.710505e-19</td>\n",
       "      <td>...</td>\n",
       "      <td>2.765621e-03</td>\n",
       "      <td>5.421011e-20</td>\n",
       "      <td>-2.710505e-19</td>\n",
       "      <td>3.686287e-18</td>\n",
       "      <td>-2.385245e-18</td>\n",
       "      <td>0.0</td>\n",
       "      <td>0.000000</td>\n",
       "      <td>-1.192622e-18</td>\n",
       "      <td>1.951564e-18</td>\n",
       "      <td>0060973129</td>\n",
       "    </tr>\n",
       "    <tr>\n",
       "      <th>3</th>\n",
       "      <td>8.673617e-19</td>\n",
       "      <td>-5.421011e-20</td>\n",
       "      <td>-3.252607e-19</td>\n",
       "      <td>1.301043e-18</td>\n",
       "      <td>-2.710505e-19</td>\n",
       "      <td>-2.168404e-19</td>\n",
       "      <td>1.843144e-18</td>\n",
       "      <td>-8.673617e-19</td>\n",
       "      <td>2.168404e-18</td>\n",
       "      <td>-3.930233e-19</td>\n",
       "      <td>...</td>\n",
       "      <td>5.859424e-03</td>\n",
       "      <td>1.246832e-18</td>\n",
       "      <td>-5.827587e-19</td>\n",
       "      <td>8.614151e-04</td>\n",
       "      <td>1.994720e-03</td>\n",
       "      <td>0.0</td>\n",
       "      <td>0.005348</td>\n",
       "      <td>1.235645e-03</td>\n",
       "      <td>1.218197e-03</td>\n",
       "      <td>0374157065</td>\n",
       "    </tr>\n",
       "    <tr>\n",
       "      <th>4</th>\n",
       "      <td>8.673617e-19</td>\n",
       "      <td>-5.421011e-20</td>\n",
       "      <td>-3.252607e-19</td>\n",
       "      <td>1.301043e-18</td>\n",
       "      <td>-2.710505e-19</td>\n",
       "      <td>-2.168404e-19</td>\n",
       "      <td>1.843144e-18</td>\n",
       "      <td>-8.673617e-19</td>\n",
       "      <td>2.168404e-18</td>\n",
       "      <td>-3.930233e-19</td>\n",
       "      <td>...</td>\n",
       "      <td>5.859424e-03</td>\n",
       "      <td>1.246832e-18</td>\n",
       "      <td>-5.827587e-19</td>\n",
       "      <td>8.614151e-04</td>\n",
       "      <td>1.994720e-03</td>\n",
       "      <td>0.0</td>\n",
       "      <td>0.005348</td>\n",
       "      <td>1.235645e-03</td>\n",
       "      <td>1.218197e-03</td>\n",
       "      <td>0393045218</td>\n",
       "    </tr>\n",
       "  </tbody>\n",
       "</table>\n",
       "<p>5 rows × 1001 columns</p>\n",
       "</div>"
      ],
      "text/plain": [
       "              0             1             2             3             4  \\\n",
       "0  1.084202e-18 -6.234162e-19 -3.523657e-19  3.252607e-19  1.301043e-18   \n",
       "1  9.757820e-19 -3.388132e-19 -3.523657e-19  1.409463e-18 -1.626303e-19   \n",
       "2 -4.336809e-19  2.303930e-19 -3.252607e-19 -9.215718e-19 -7.047314e-19   \n",
       "3  8.673617e-19 -5.421011e-20 -3.252607e-19  1.301043e-18 -2.710505e-19   \n",
       "4  8.673617e-19 -5.421011e-20 -3.252607e-19  1.301043e-18 -2.710505e-19   \n",
       "\n",
       "              5             6             7             8             9  ...  \\\n",
       "0 -2.168404e-19  2.005774e-18 -8.673617e-19  4.119968e-18 -5.963112e-19  ...   \n",
       "1 -2.168404e-19  1.951564e-18 -8.673617e-19  3.144186e-18 -5.014435e-19  ...   \n",
       "2 -2.168404e-19  5.421011e-19 -6.505213e-19 -1.192622e-18  2.710505e-19  ...   \n",
       "3 -2.168404e-19  1.843144e-18 -8.673617e-19  2.168404e-18 -3.930233e-19  ...   \n",
       "4 -2.168404e-19  1.843144e-18 -8.673617e-19  2.168404e-18 -3.930233e-19  ...   \n",
       "\n",
       "            991           992           993           994           995  996  \\\n",
       "0  6.938894e-18  9.829566e-04 -6.234162e-19  9.800774e-04  1.235990e-17  0.0   \n",
       "1  4.865811e-03  2.215379e-03 -6.098637e-19  7.760145e-04  7.156626e-04  0.0   \n",
       "2  2.765621e-03  5.421011e-20 -2.710505e-19  3.686287e-18 -2.385245e-18  0.0   \n",
       "3  5.859424e-03  1.246832e-18 -5.827587e-19  8.614151e-04  1.994720e-03  0.0   \n",
       "4  5.859424e-03  1.246832e-18 -5.827587e-19  8.614151e-04  1.994720e-03  0.0   \n",
       "\n",
       "        997           998           999        ISBN  \n",
       "0  0.003330  1.734723e-18  2.059984e-18  0195153448  \n",
       "1  0.003675 -9.757820e-19  1.087958e-03  0002005018  \n",
       "2  0.000000 -1.192622e-18  1.951564e-18  0060973129  \n",
       "3  0.005348  1.235645e-03  1.218197e-03  0374157065  \n",
       "4  0.005348  1.235645e-03  1.218197e-03  0393045218  \n",
       "\n",
       "[5 rows x 1001 columns]"
      ]
     },
     "execution_count": 31,
     "metadata": {},
     "output_type": "execute_result"
    }
   ],
   "source": [
    "classified = pd.DataFrame(centroids)\n",
    "classified['ISBN'] = isbns\n",
    "classified.head()"
   ]
  },
  {
   "cell_type": "markdown",
   "id": "ac7c39b7-cf39-4d77-abf4-ec89cb841de8",
   "metadata": {},
   "source": [
    "classified.to_csv('books_classified.csv')"
   ]
  }
 ],
 "metadata": {
  "kernelspec": {
   "display_name": "Python 3 (ipykernel)",
   "language": "python",
   "name": "python3"
  },
  "language_info": {
   "codemirror_mode": {
    "name": "ipython",
    "version": 3
   },
   "file_extension": ".py",
   "mimetype": "text/x-python",
   "name": "python",
   "nbconvert_exporter": "python",
   "pygments_lexer": "ipython3",
   "version": "3.11.5"
  }
 },
 "nbformat": 4,
 "nbformat_minor": 5
}
